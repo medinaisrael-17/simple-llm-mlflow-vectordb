{
 "cells": [
  {
   "cell_type": "markdown",
   "id": "99910594",
   "metadata": {},
   "source": [
    "# Walkthrough: load model, store embeddings in FAISS, query "
   ]
  }
 ],
 "metadata": {
  "language_info": {
   "name": "python"
  }
 },
 "nbformat": 4,
 "nbformat_minor": 5
}
