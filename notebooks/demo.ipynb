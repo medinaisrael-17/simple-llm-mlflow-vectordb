{
 "cells": [
  {
   "cell_type": "markdown",
   "id": "99910594",
   "metadata": {},
   "source": [
    "# Walkthrough: load model, store embeddings in FAISS, query "
   ]
  },
  {
   "cell_type": "code",
   "execution_count": 17,
   "id": "d2f27162",
   "metadata": {},
   "outputs": [
    {
     "name": "stderr",
     "output_type": "stream",
     "text": [
      "Device set to use cpu\n",
      "Both `max_new_tokens` (=256) and `max_length`(=50) seem to have been set. `max_new_tokens` will take precedence. Please refer to the documentation for more information. (https://huggingface.co/docs/transformers/main/en/main_classes/text_generation)\n"
     ]
    },
    {
     "name": "stdout",
     "output_type": "stream",
     "text": [
      "Question: Where is the Eiffel Tower?\n",
      "Answer: Paris\n"
     ]
    }
   ],
   "source": [
    "from src.pipeline import SimplePipeline\n",
    "\n",
    "# Initialize pipeline\n",
    "pipe = SimplePipeline()\n",
    "\n",
    "# Add \"knowledge base\" docs\n",
    "pipe.add_docs([\n",
    "    \"The Eiffel Tower is in Paris.\",\n",
    "    \"The Colosseum is in Rome.\",\n",
    "    \"The Statue of Liberty is in New York.\"\n",
    "])\n",
    "\n",
    "# Ask a question \n",
    "print(\"Question: Where is the Eiffel Tower?\")\n",
    "answer = pipe.query(\"Where is the Eiffel Tower?\")\n",
    "print(\"Answer:\", answer)"
   ]
  },
  {
   "cell_type": "code",
   "execution_count": 18,
   "id": "3b522254",
   "metadata": {},
   "outputs": [
    {
     "name": "stderr",
     "output_type": "stream",
     "text": [
      "Both `max_new_tokens` (=256) and `max_length`(=50) seem to have been set. `max_new_tokens` will take precedence. Please refer to the documentation for more information. (https://huggingface.co/docs/transformers/main/en/main_classes/text_generation)\n"
     ]
    },
    {
     "name": "stdout",
     "output_type": "stream",
     "text": [
      "Question: Where is the Colosseum?\n"
     ]
    },
    {
     "name": "stderr",
     "output_type": "stream",
     "text": [
      "Both `max_new_tokens` (=256) and `max_length`(=50) seem to have been set. `max_new_tokens` will take precedence. Please refer to the documentation for more information. (https://huggingface.co/docs/transformers/main/en/main_classes/text_generation)\n"
     ]
    },
    {
     "name": "stdout",
     "output_type": "stream",
     "text": [
      "Answer: Rome\n",
      "Question: Where is the Statue of Liberty?\n",
      "Answer: New York\n"
     ]
    }
   ],
   "source": [
    "# More Questions\n",
    "print(\"Question: Where is the Colosseum?\")\n",
    "answer = pipe.query(\"Where is the Colosseum?\")\n",
    "print(\"Answer:\", answer)\n",
    "\n",
    "print(\"Question: Where is the Statue of Liberty?\")\n",
    "answer = pipe.query(\"Where is the Statue of Liberty?\")\n",
    "print(\"Answer:\", answer)"
   ]
  }
 ],
 "metadata": {
  "kernelspec": {
   "display_name": "Python 3",
   "language": "python",
   "name": "python3"
  },
  "language_info": {
   "codemirror_mode": {
    "name": "ipython",
    "version": 3
   },
   "file_extension": ".py",
   "mimetype": "text/x-python",
   "name": "python",
   "nbconvert_exporter": "python",
   "pygments_lexer": "ipython3",
   "version": "3.13.7"
  }
 },
 "nbformat": 4,
 "nbformat_minor": 5
}
